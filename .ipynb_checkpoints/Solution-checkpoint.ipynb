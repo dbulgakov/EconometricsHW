{
 "cells": [
  {
   "cell_type": "code",
   "execution_count": 1,
   "metadata": {
    "collapsed": true
   },
   "outputs": [],
   "source": [
    "import pandas as pd\n",
    "import numpy as np\n",
    "import seaborn as sns\n",
    "import matplotlib.pyplot as plt\n",
    "import math\n",
    "from sklearn.preprocessing import StandardScaler\n",
    "from sklearn.model_selection import train_test_split\n",
    "import statsmodels.api as sm\n",
    "from statsmodels.stats.stattools import durbin_watson\n",
    "from sklearn.metrics import r2_score\n",
    "RND_STATE = 344\n",
    "%matplotlib inline"
   ]
  },
  {
   "cell_type": "markdown",
   "metadata": {},
   "source": [
    "## 1. Загрузка данных"
   ]
  },
  {
   "cell_type": "code",
   "execution_count": 2,
   "metadata": {
    "collapsed": true
   },
   "outputs": [],
   "source": [
    "data = pd.read_csv('data/hotel_data.csv', sep=';')"
   ]
  },
  {
   "cell_type": "code",
   "execution_count": 3,
   "metadata": {},
   "outputs": [
    {
     "data": {
      "text/html": [
       "<div>\n",
       "<table border=\"1\" class=\"dataframe\">\n",
       "  <thead>\n",
       "    <tr style=\"text-align: right;\">\n",
       "      <th></th>\n",
       "      <th>Hotel name</th>\n",
       "      <th>Rating</th>\n",
       "      <th>Stars</th>\n",
       "      <th>Distance to the sea</th>\n",
       "      <th>Distance to the downtown</th>\n",
       "      <th>Room area</th>\n",
       "      <th>Swimming pool</th>\n",
       "      <th>Price</th>\n",
       "    </tr>\n",
       "  </thead>\n",
       "  <tbody>\n",
       "    <tr>\n",
       "      <th>0</th>\n",
       "      <td>Bonanova Park</td>\n",
       "      <td>7.7</td>\n",
       "      <td>2.0</td>\n",
       "      <td>7.0</td>\n",
       "      <td>5.0</td>\n",
       "      <td>16.0</td>\n",
       "      <td>0</td>\n",
       "      <td>63</td>\n",
       "    </tr>\n",
       "    <tr>\n",
       "      <th>1</th>\n",
       "      <td>Travelodge Barcelona Poblenou</td>\n",
       "      <td>7.9</td>\n",
       "      <td>1.0</td>\n",
       "      <td>0.5</td>\n",
       "      <td>2.0</td>\n",
       "      <td>15.0</td>\n",
       "      <td>0</td>\n",
       "      <td>83</td>\n",
       "    </tr>\n",
       "    <tr>\n",
       "      <th>2</th>\n",
       "      <td>Senator Barcelona Spa Hotel</td>\n",
       "      <td>7.8</td>\n",
       "      <td>4.0</td>\n",
       "      <td>5.0</td>\n",
       "      <td>3.0</td>\n",
       "      <td>21.0</td>\n",
       "      <td>1</td>\n",
       "      <td>91</td>\n",
       "    </tr>\n",
       "    <tr>\n",
       "      <th>3</th>\n",
       "      <td>Hotel Medicis</td>\n",
       "      <td>7.9</td>\n",
       "      <td>2.0</td>\n",
       "      <td>2.0</td>\n",
       "      <td>1.0</td>\n",
       "      <td>10.0</td>\n",
       "      <td>0</td>\n",
       "      <td>87</td>\n",
       "    </tr>\n",
       "    <tr>\n",
       "      <th>4</th>\n",
       "      <td>Paral-lel</td>\n",
       "      <td>8.4</td>\n",
       "      <td>2.0</td>\n",
       "      <td>0.5</td>\n",
       "      <td>1.0</td>\n",
       "      <td>19.0</td>\n",
       "      <td>0</td>\n",
       "      <td>102</td>\n",
       "    </tr>\n",
       "  </tbody>\n",
       "</table>\n",
       "</div>"
      ],
      "text/plain": [
       "                      Hotel name  Rating  Stars  Distance to the sea  \\\n",
       "0                  Bonanova Park     7.7    2.0                  7.0   \n",
       "1  Travelodge Barcelona Poblenou     7.9    1.0                  0.5   \n",
       "2   Senator Barcelona Spa Hotel      7.8    4.0                  5.0   \n",
       "3                  Hotel Medicis     7.9    2.0                  2.0   \n",
       "4                     Paral-lel      8.4    2.0                  0.5   \n",
       "\n",
       "   Distance to the downtown  Room area  Swimming pool  Price  \n",
       "0                       5.0       16.0              0     63  \n",
       "1                       2.0       15.0              0     83  \n",
       "2                       3.0       21.0              1     91  \n",
       "3                       1.0       10.0              0     87  \n",
       "4                       1.0       19.0              0    102  "
      ]
     },
     "execution_count": 3,
     "metadata": {},
     "output_type": "execute_result"
    }
   ],
   "source": [
    "data.head()"
   ]
  },
  {
   "cell_type": "markdown",
   "metadata": {},
   "source": [
    "### 1.1 Описание данных"
   ]
  },
  {
   "cell_type": "code",
   "execution_count": 4,
   "metadata": {},
   "outputs": [
    {
     "data": {
      "text/html": [
       "<div>\n",
       "<table border=\"1\" class=\"dataframe\">\n",
       "  <thead>\n",
       "    <tr style=\"text-align: right;\">\n",
       "      <th></th>\n",
       "      <th>Rating</th>\n",
       "      <th>Stars</th>\n",
       "      <th>Distance to the sea</th>\n",
       "      <th>Distance to the downtown</th>\n",
       "      <th>Room area</th>\n",
       "      <th>Swimming pool</th>\n",
       "      <th>Price</th>\n",
       "    </tr>\n",
       "  </thead>\n",
       "  <tbody>\n",
       "    <tr>\n",
       "      <th>count</th>\n",
       "      <td>208.000000</td>\n",
       "      <td>207.000000</td>\n",
       "      <td>208.000000</td>\n",
       "      <td>208.000000</td>\n",
       "      <td>207.000000</td>\n",
       "      <td>208.000000</td>\n",
       "      <td>208.000000</td>\n",
       "    </tr>\n",
       "    <tr>\n",
       "      <th>mean</th>\n",
       "      <td>7.980288</td>\n",
       "      <td>3.260870</td>\n",
       "      <td>2.585096</td>\n",
       "      <td>1.258173</td>\n",
       "      <td>18.483092</td>\n",
       "      <td>0.250000</td>\n",
       "      <td>129.754808</td>\n",
       "    </tr>\n",
       "    <tr>\n",
       "      <th>std</th>\n",
       "      <td>0.491125</td>\n",
       "      <td>0.841615</td>\n",
       "      <td>1.656875</td>\n",
       "      <td>1.168520</td>\n",
       "      <td>5.172599</td>\n",
       "      <td>0.434057</td>\n",
       "      <td>29.895025</td>\n",
       "    </tr>\n",
       "    <tr>\n",
       "      <th>min</th>\n",
       "      <td>6.400000</td>\n",
       "      <td>1.000000</td>\n",
       "      <td>0.000000</td>\n",
       "      <td>0.000000</td>\n",
       "      <td>8.000000</td>\n",
       "      <td>0.000000</td>\n",
       "      <td>63.000000</td>\n",
       "    </tr>\n",
       "    <tr>\n",
       "      <th>25%</th>\n",
       "      <td>7.700000</td>\n",
       "      <td>3.000000</td>\n",
       "      <td>1.500000</td>\n",
       "      <td>0.500000</td>\n",
       "      <td>15.000000</td>\n",
       "      <td>0.000000</td>\n",
       "      <td>107.000000</td>\n",
       "    </tr>\n",
       "    <tr>\n",
       "      <th>50%</th>\n",
       "      <td>8.000000</td>\n",
       "      <td>3.000000</td>\n",
       "      <td>2.500000</td>\n",
       "      <td>1.000000</td>\n",
       "      <td>18.000000</td>\n",
       "      <td>0.000000</td>\n",
       "      <td>126.000000</td>\n",
       "    </tr>\n",
       "    <tr>\n",
       "      <th>75%</th>\n",
       "      <td>8.300000</td>\n",
       "      <td>4.000000</td>\n",
       "      <td>3.000000</td>\n",
       "      <td>2.000000</td>\n",
       "      <td>21.000000</td>\n",
       "      <td>0.250000</td>\n",
       "      <td>151.250000</td>\n",
       "    </tr>\n",
       "    <tr>\n",
       "      <th>max</th>\n",
       "      <td>9.000000</td>\n",
       "      <td>4.000000</td>\n",
       "      <td>9.000000</td>\n",
       "      <td>5.000000</td>\n",
       "      <td>44.000000</td>\n",
       "      <td>1.000000</td>\n",
       "      <td>210.000000</td>\n",
       "    </tr>\n",
       "  </tbody>\n",
       "</table>\n",
       "</div>"
      ],
      "text/plain": [
       "           Rating       Stars  Distance to the sea  Distance to the downtown  \\\n",
       "count  208.000000  207.000000           208.000000                208.000000   \n",
       "mean     7.980288    3.260870             2.585096                  1.258173   \n",
       "std      0.491125    0.841615             1.656875                  1.168520   \n",
       "min      6.400000    1.000000             0.000000                  0.000000   \n",
       "25%      7.700000    3.000000             1.500000                  0.500000   \n",
       "50%      8.000000    3.000000             2.500000                  1.000000   \n",
       "75%      8.300000    4.000000             3.000000                  2.000000   \n",
       "max      9.000000    4.000000             9.000000                  5.000000   \n",
       "\n",
       "        Room area  Swimming pool       Price  \n",
       "count  207.000000     208.000000  208.000000  \n",
       "mean    18.483092       0.250000  129.754808  \n",
       "std      5.172599       0.434057   29.895025  \n",
       "min      8.000000       0.000000   63.000000  \n",
       "25%     15.000000       0.000000  107.000000  \n",
       "50%     18.000000       0.000000  126.000000  \n",
       "75%     21.000000       0.250000  151.250000  \n",
       "max     44.000000       1.000000  210.000000  "
      ]
     },
     "execution_count": 4,
     "metadata": {},
     "output_type": "execute_result"
    }
   ],
   "source": [
    "data.describe()"
   ]
  },
  {
   "cell_type": "markdown",
   "metadata": {},
   "source": [
    "Также посмотрим на медианы"
   ]
  },
  {
   "cell_type": "code",
   "execution_count": 5,
   "metadata": {},
   "outputs": [
    {
     "data": {
      "text/plain": [
       "Rating                        8.0\n",
       "Stars                         3.0\n",
       "Distance to the sea           2.5\n",
       "Distance to the downtown      1.0\n",
       "Room area                    18.0\n",
       "Swimming pool                 0.0\n",
       "Price                       126.0\n",
       "dtype: float64"
      ]
     },
     "execution_count": 5,
     "metadata": {},
     "output_type": "execute_result"
    }
   ],
   "source": [
    "data.median()"
   ]
  },
  {
   "cell_type": "code",
   "execution_count": 6,
   "metadata": {},
   "outputs": [
    {
     "data": {
      "image/png": "[encoded data removed]",
      "text/plain": [
       "<matplotlib.figure.Figure at 0x119a0eda0>"
      ]
     },
     "metadata": {},
     "output_type": "display_data"
    }
   ],
   "source": [
    "fig, axes = plt.subplots(nrows=2, ncols=3, figsize=(15, 10))\n",
    "for idx, feature in enumerate(data.columns[1:-1]):\n",
    "    data.plot(feature, 'Price', subplots=True, kind='scatter', ax=axes[int(idx / 3), int(idx % 3)])"
   ]
  },
  {
   "cell_type": "markdown",
   "metadata": {},
   "source": [
    "### 1.2 Проверка наличия пропусков"
   ]
  },
  {
   "cell_type": "code",
   "execution_count": 7,
   "metadata": {
    "collapsed": true
   },
   "outputs": [],
   "source": [
    "def checkNANs(dataframe):\n",
    "    print(\"Есть ли пропуски в датафрейме?: \", dataframe.isnull().values.any())"
   ]
  },
  {
   "cell_type": "code",
   "execution_count": 8,
   "metadata": {},
   "outputs": [
    {
     "name": "stdout",
     "output_type": "stream",
     "text": [
      "Есть ли пропуски в датафрейме?:  True\n"
     ]
    }
   ],
   "source": [
    "checkNANs(data)"
   ]
  },
  {
   "cell_type": "markdown",
   "metadata": {},
   "source": [
    "Найдем пропуски:"
   ]
  },
  {
   "cell_type": "code",
   "execution_count": 9,
   "metadata": {},
   "outputs": [
    {
     "data": {
      "text/html": [
       "<div>\n",
       "<table border=\"1\" class=\"dataframe\">\n",
       "  <thead>\n",
       "    <tr style=\"text-align: right;\">\n",
       "      <th></th>\n",
       "      <th>Hotel name</th>\n",
       "      <th>Rating</th>\n",
       "      <th>Stars</th>\n",
       "      <th>Distance to the sea</th>\n",
       "      <th>Distance to the downtown</th>\n",
       "      <th>Room area</th>\n",
       "      <th>Swimming pool</th>\n",
       "      <th>Price</th>\n",
       "    </tr>\n",
       "  </thead>\n",
       "  <tbody>\n",
       "    <tr>\n",
       "      <th>6</th>\n",
       "      <td>Hotel Barbara</td>\n",
       "      <td>6.6</td>\n",
       "      <td>1.0</td>\n",
       "      <td>0.5</td>\n",
       "      <td>0.5</td>\n",
       "      <td>NaN</td>\n",
       "      <td>0</td>\n",
       "      <td>73</td>\n",
       "    </tr>\n",
       "    <tr>\n",
       "      <th>58</th>\n",
       "      <td>Holiday Inn Express Barcelona City 22</td>\n",
       "      <td>7.6</td>\n",
       "      <td>NaN</td>\n",
       "      <td>0.5</td>\n",
       "      <td>1.5</td>\n",
       "      <td>25.0</td>\n",
       "      <td>0</td>\n",
       "      <td>96</td>\n",
       "    </tr>\n",
       "  </tbody>\n",
       "</table>\n",
       "</div>"
      ],
      "text/plain": [
       "                               Hotel name  Rating  Stars  Distance to the sea  \\\n",
       "6                           Hotel Barbara     6.6    1.0                  0.5   \n",
       "58  Holiday Inn Express Barcelona City 22     7.6    NaN                  0.5   \n",
       "\n",
       "    Distance to the downtown  Room area  Swimming pool  Price  \n",
       "6                        0.5        NaN              0     73  \n",
       "58                       1.5       25.0              0     96  "
      ]
     },
     "execution_count": 9,
     "metadata": {},
     "output_type": "execute_result"
    }
   ],
   "source": [
    "nan_indexes = data.isnull().any(axis=1)\n",
    "data[nan_indexes]"
   ]
  },
  {
   "cell_type": "markdown",
   "metadata": {},
   "source": [
    "### 1.3 Заполнение пропусков"
   ]
  },
  {
   "cell_type": "code",
   "execution_count": 10,
   "metadata": {
    "collapsed": true
   },
   "outputs": [],
   "source": [
    "mean_dict = data.mean() # cacl mean\n",
    "for key in mean_dict.keys(): # round values\n",
    "    mean_dict[key] = int(mean_dict[key])"
   ]
  },
  {
   "cell_type": "markdown",
   "metadata": {},
   "source": [
    "Округленные средние значения"
   ]
  },
  {
   "cell_type": "code",
   "execution_count": 11,
   "metadata": {},
   "outputs": [
    {
     "data": {
      "text/plain": [
       "Rating                        7.0\n",
       "Stars                         3.0\n",
       "Distance to the sea           2.0\n",
       "Distance to the downtown      1.0\n",
       "Room area                    18.0\n",
       "Swimming pool                 0.0\n",
       "Price                       129.0\n",
       "dtype: float64"
      ]
     },
     "execution_count": 11,
     "metadata": {},
     "output_type": "execute_result"
    }
   ],
   "source": [
    "mean_dict"
   ]
  },
  {
   "cell_type": "markdown",
   "metadata": {},
   "source": [
    "Заполняем средними"
   ]
  },
  {
   "cell_type": "code",
   "execution_count": 12,
   "metadata": {
    "collapsed": true
   },
   "outputs": [],
   "source": [
    "data = data.fillna(mean_dict)"
   ]
  },
  {
   "cell_type": "markdown",
   "metadata": {},
   "source": [
    "Проверим заполнение пропусков средним значением:"
   ]
  },
  {
   "cell_type": "code",
   "execution_count": 13,
   "metadata": {},
   "outputs": [
    {
     "data": {
      "text/html": [
       "<div>\n",
       "<table border=\"1\" class=\"dataframe\">\n",
       "  <thead>\n",
       "    <tr style=\"text-align: right;\">\n",
       "      <th></th>\n",
       "      <th>Hotel name</th>\n",
       "      <th>Rating</th>\n",
       "      <th>Stars</th>\n",
       "      <th>Distance to the sea</th>\n",
       "      <th>Distance to the downtown</th>\n",
       "      <th>Room area</th>\n",
       "      <th>Swimming pool</th>\n",
       "      <th>Price</th>\n",
       "    </tr>\n",
       "  </thead>\n",
       "  <tbody>\n",
       "    <tr>\n",
       "      <th>6</th>\n",
       "      <td>Hotel Barbara</td>\n",
       "      <td>6.6</td>\n",
       "      <td>1.0</td>\n",
       "      <td>0.5</td>\n",
       "      <td>0.5</td>\n",
       "      <td>18.0</td>\n",
       "      <td>0</td>\n",
       "      <td>73</td>\n",
       "    </tr>\n",
       "    <tr>\n",
       "      <th>58</th>\n",
       "      <td>Holiday Inn Express Barcelona City 22</td>\n",
       "      <td>7.6</td>\n",
       "      <td>3.0</td>\n",
       "      <td>0.5</td>\n",
       "      <td>1.5</td>\n",
       "      <td>25.0</td>\n",
       "      <td>0</td>\n",
       "      <td>96</td>\n",
       "    </tr>\n",
       "  </tbody>\n",
       "</table>\n",
       "</div>"
      ],
      "text/plain": [
       "                               Hotel name  Rating  Stars  Distance to the sea  \\\n",
       "6                           Hotel Barbara     6.6    1.0                  0.5   \n",
       "58  Holiday Inn Express Barcelona City 22     7.6    3.0                  0.5   \n",
       "\n",
       "    Distance to the downtown  Room area  Swimming pool  Price  \n",
       "6                        0.5       18.0              0     73  \n",
       "58                       1.5       25.0              0     96  "
      ]
     },
     "execution_count": 13,
     "metadata": {},
     "output_type": "execute_result"
    }
   ],
   "source": [
    "data[nan_indexes]"
   ]
  },
  {
   "cell_type": "code",
   "execution_count": 14,
   "metadata": {},
   "outputs": [
    {
     "name": "stdout",
     "output_type": "stream",
     "text": [
      "Есть ли пропуски в датафрейме?:  False\n"
     ]
    }
   ],
   "source": [
    "checkNANs(data)"
   ]
  },
  {
   "cell_type": "markdown",
   "metadata": {},
   "source": [
    "## 2. Проверка данных"
   ]
  },
  {
   "cell_type": "markdown",
   "metadata": {},
   "source": [
    "### 2.1 Построение корреляционной матрицы"
   ]
  },
  {
   "cell_type": "code",
   "execution_count": 15,
   "metadata": {},
   "outputs": [
    {
     "data": {
      "text/html": [
       "<div>\n",
       "<table border=\"1\" class=\"dataframe\">\n",
       "  <thead>\n",
       "    <tr style=\"text-align: right;\">\n",
       "      <th></th>\n",
       "      <th>Rating</th>\n",
       "      <th>Stars</th>\n",
       "      <th>Distance to the sea</th>\n",
       "      <th>Distance to the downtown</th>\n",
       "      <th>Room area</th>\n",
       "      <th>Swimming pool</th>\n",
       "      <th>Price</th>\n",
       "    </tr>\n",
       "  </thead>\n",
       "  <tbody>\n",
       "    <tr>\n",
       "      <th>Rating</th>\n",
       "      <td>1.000000</td>\n",
       "      <td>0.186994</td>\n",
       "      <td>-0.021557</td>\n",
       "      <td>-0.128974</td>\n",
       "      <td>0.191710</td>\n",
       "      <td>0.202255</td>\n",
       "      <td>0.405103</td>\n",
       "    </tr>\n",
       "    <tr>\n",
       "      <th>Stars</th>\n",
       "      <td>0.186994</td>\n",
       "      <td>1.000000</td>\n",
       "      <td>0.163200</td>\n",
       "      <td>0.177517</td>\n",
       "      <td>0.467148</td>\n",
       "      <td>0.298196</td>\n",
       "      <td>0.593109</td>\n",
       "    </tr>\n",
       "    <tr>\n",
       "      <th>Distance to the sea</th>\n",
       "      <td>-0.021557</td>\n",
       "      <td>0.163200</td>\n",
       "      <td>1.000000</td>\n",
       "      <td>0.333458</td>\n",
       "      <td>0.073053</td>\n",
       "      <td>0.054242</td>\n",
       "      <td>0.004539</td>\n",
       "    </tr>\n",
       "    <tr>\n",
       "      <th>Distance to the downtown</th>\n",
       "      <td>-0.128974</td>\n",
       "      <td>0.177517</td>\n",
       "      <td>0.333458</td>\n",
       "      <td>1.000000</td>\n",
       "      <td>0.147002</td>\n",
       "      <td>0.158823</td>\n",
       "      <td>-0.109614</td>\n",
       "    </tr>\n",
       "    <tr>\n",
       "      <th>Room area</th>\n",
       "      <td>0.191710</td>\n",
       "      <td>0.467148</td>\n",
       "      <td>0.073053</td>\n",
       "      <td>0.147002</td>\n",
       "      <td>1.000000</td>\n",
       "      <td>0.265290</td>\n",
       "      <td>0.362466</td>\n",
       "    </tr>\n",
       "    <tr>\n",
       "      <th>Swimming pool</th>\n",
       "      <td>0.202255</td>\n",
       "      <td>0.298196</td>\n",
       "      <td>0.054242</td>\n",
       "      <td>0.158823</td>\n",
       "      <td>0.265290</td>\n",
       "      <td>1.000000</td>\n",
       "      <td>0.253810</td>\n",
       "    </tr>\n",
       "    <tr>\n",
       "      <th>Price</th>\n",
       "      <td>0.405103</td>\n",
       "      <td>0.593109</td>\n",
       "      <td>0.004539</td>\n",
       "      <td>-0.109614</td>\n",
       "      <td>0.362466</td>\n",
       "      <td>0.253810</td>\n",
       "      <td>1.000000</td>\n",
       "    </tr>\n",
       "  </tbody>\n",
       "</table>\n",
       "</div>"
      ],
      "text/plain": [
       "                            Rating     Stars  Distance to the sea  \\\n",
       "Rating                    1.000000  0.186994            -0.021557   \n",
       "Stars                     0.186994  1.000000             0.163200   \n",
       "Distance to the sea      -0.021557  0.163200             1.000000   \n",
       "Distance to the downtown -0.128974  0.177517             0.333458   \n",
       "Room area                 0.191710  0.467148             0.073053   \n",
       "Swimming pool             0.202255  0.298196             0.054242   \n",
       "Price                     0.405103  0.593109             0.004539   \n",
       "\n",
       "                          Distance to the downtown  Room area  Swimming pool  \\\n",
       "Rating                                   -0.128974   0.191710       0.202255   \n",
       "Stars                                     0.177517   0.467148       0.298196   \n",
       "Distance to the sea                       0.333458   0.073053       0.054242   \n",
       "Distance to the downtown                  1.000000   0.147002       0.158823   \n",
       "Room area                                 0.147002   1.000000       0.265290   \n",
       "Swimming pool                             0.158823   0.265290       1.000000   \n",
       "Price                                    -0.109614   0.362466       0.253810   \n",
       "\n",
       "                             Price  \n",
       "Rating                    0.405103  \n",
       "Stars                     0.593109  \n",
       "Distance to the sea       0.004539  \n",
       "Distance to the downtown -0.109614  \n",
       "Room area                 0.362466  \n",
       "Swimming pool             0.253810  \n",
       "Price                     1.000000  "
      ]
     },
     "execution_count": 15,
     "metadata": {},
     "output_type": "execute_result"
    }
   ],
   "source": [
    "data.corr()"
   ]
  },
  {
   "cell_type": "code",
   "execution_count": 16,
   "metadata": {},
   "outputs": [
    {
     "data": {
      "text/plain": [
       "<matplotlib.axes._subplots.AxesSubplot at 0x11d061320>"
      ]
     },
     "execution_count": 16,
     "metadata": {},
     "output_type": "execute_result"
    },
    {
     "data": {
      "image/png": "[encoded data removed]",
      "text/plain": [
       "<matplotlib.figure.Figure at 0x11d01a9b0>"
      ]
     },
     "metadata": {},
     "output_type": "display_data"
    }
   ],
   "source": [
    "f, ax = plt.subplots(figsize=(10, 8))\n",
    "corr = data.corr()\n",
    "sns.heatmap(corr, mask=np.zeros_like(corr, dtype=np.bool), cmap=sns.diverging_palette(220, 10, as_cmap=True),\n",
    "            square=True, ax=ax)"
   ]
  },
  {
   "cell_type": "markdown",
   "metadata": {
    "collapsed": true
   },
   "source": [
    "### 2.2 Удаление малоинформативных признаков"
   ]
  },
  {
   "cell_type": "markdown",
   "metadata": {},
   "source": [
    "Как видно из корреляционной матрицы, зависимость между ценой и расстоянием до моря/центра города очень слабая (меньше 20%). <br>Поэтому, удалим эти признаки. "
   ]
  },
  {
   "cell_type": "code",
   "execution_count": 17,
   "metadata": {
    "collapsed": true
   },
   "outputs": [],
   "source": [
    "data = data.drop(['Distance to the sea', 'Distance to the downtown'], axis = 1)"
   ]
  },
  {
   "cell_type": "markdown",
   "metadata": {},
   "source": [
    "## 3. Предобработка данных"
   ]
  },
  {
   "cell_type": "markdown",
   "metadata": {},
   "source": [
    "### 3.1 Масштабирование признаков"
   ]
  },
  {
   "cell_type": "code",
   "execution_count": 24,
   "metadata": {},
   "outputs": [
    {
     "data": {
      "text/plain": [
       "array([  7.7,   2. ,  16. ,   0. ])"
      ]
     },
     "execution_count": 24,
     "metadata": {},
     "output_type": "execute_result"
    }
   ],
   "source": [
    "data.ix[:,1:-1].values"
   ]
  },
  {
   "cell_type": "code",
   "execution_count": 28,
   "metadata": {
    "collapsed": true
   },
   "outputs": [],
   "source": [
    "scaler = StandardScaler()\n",
    "X = scaler.fit_transform(data.ix[:,1:-1])\n",
    "X = sm.add_constant(X)\n",
    "y = data.ix[:,-1:].values.flatten()\n",
    "X_train, X_test, y_train, y_test = train_test_split(X, y, test_size=0.33, random_state=RND_STATE)"
   ]
  },
  {
   "cell_type": "code",
   "execution_count": null,
   "metadata": {
    "collapsed": true
   },
   "outputs": [],
   "source": []
  },
  {
   "cell_type": "markdown",
   "metadata": {},
   "source": [
    "## 4. Обучение модели"
   ]
  },
  {
   "cell_type": "markdown",
   "metadata": {},
   "source": [
    "### 4.1 Обучение МНК"
   ]
  },
  {
   "cell_type": "code",
   "execution_count": 29,
   "metadata": {
    "collapsed": true
   },
   "outputs": [],
   "source": [
    "model = sm.OLS(y_train, X_train)\n",
    "results = model.fit()"
   ]
  },
  {
   "cell_type": "code",
   "execution_count": 30,
   "metadata": {},
   "outputs": [
    {
     "data": {
      "text/html": [
       "<table class=\"simpletable\">\n",
       "<caption>OLS Regression Results</caption>\n",
       "<tr>\n",
       "  <th>Dep. Variable:</th>            <td>y</td>        <th>  R-squared:         </th> <td>   0.458</td>\n",
       "</tr>\n",
       "<tr>\n",
       "  <th>Model:</th>                   <td>OLS</td>       <th>  Adj. R-squared:    </th> <td>   0.441</td>\n",
       "</tr>\n",
       "<tr>\n",
       "  <th>Method:</th>             <td>Least Squares</td>  <th>  F-statistic:       </th> <td>   28.26</td>\n",
       "</tr>\n",
       "<tr>\n",
       "  <th>Date:</th>             <td>Sat, 13 May 2017</td> <th>  Prob (F-statistic):</th> <td>5.03e-17</td>\n",
       "</tr>\n",
       "<tr>\n",
       "  <th>Time:</th>                 <td>22:02:47</td>     <th>  Log-Likelihood:    </th> <td> -624.59</td>\n",
       "</tr>\n",
       "<tr>\n",
       "  <th>No. Observations:</th>      <td>   139</td>      <th>  AIC:               </th> <td>   1259.</td>\n",
       "</tr>\n",
       "<tr>\n",
       "  <th>Df Residuals:</th>          <td>   134</td>      <th>  BIC:               </th> <td>   1274.</td>\n",
       "</tr>\n",
       "<tr>\n",
       "  <th>Df Model:</th>              <td>     4</td>      <th>                     </th>     <td> </td>   \n",
       "</tr>\n",
       "<tr>\n",
       "  <th>Covariance Type:</th>      <td>nonrobust</td>    <th>                     </th>     <td> </td>   \n",
       "</tr>\n",
       "</table>\n",
       "<table class=\"simpletable\">\n",
       "<tr>\n",
       "    <td></td>       <th>coef</th>     <th>std err</th>      <th>t</th>      <th>P>|t|</th> <th>[95.0% Conf. Int.]</th> \n",
       "</tr>\n",
       "<tr>\n",
       "  <th>const</th> <td>  127.2424</td> <td>    1.879</td> <td>   67.707</td> <td> 0.000</td> <td>  123.526   130.959</td>\n",
       "</tr>\n",
       "<tr>\n",
       "  <th>x1</th>    <td>   10.9908</td> <td>    1.980</td> <td>    5.550</td> <td> 0.000</td> <td>    7.074    14.907</td>\n",
       "</tr>\n",
       "<tr>\n",
       "  <th>x2</th>    <td>   12.2585</td> <td>    2.258</td> <td>    5.429</td> <td> 0.000</td> <td>    7.792    16.725</td>\n",
       "</tr>\n",
       "<tr>\n",
       "  <th>x3</th>    <td>    1.7348</td> <td>    2.361</td> <td>    0.735</td> <td> 0.464</td> <td>   -2.936     6.405</td>\n",
       "</tr>\n",
       "<tr>\n",
       "  <th>x4</th>    <td>    1.7962</td> <td>    2.038</td> <td>    0.881</td> <td> 0.380</td> <td>   -2.235     5.827</td>\n",
       "</tr>\n",
       "</table>\n",
       "<table class=\"simpletable\">\n",
       "<tr>\n",
       "  <th>Omnibus:</th>       <td> 3.977</td> <th>  Durbin-Watson:     </th> <td>   1.635</td>\n",
       "</tr>\n",
       "<tr>\n",
       "  <th>Prob(Omnibus):</th> <td> 0.137</td> <th>  Jarque-Bera (JB):  </th> <td>   3.781</td>\n",
       "</tr>\n",
       "<tr>\n",
       "  <th>Skew:</th>          <td> 0.344</td> <th>  Prob(JB):          </th> <td>   0.151</td>\n",
       "</tr>\n",
       "<tr>\n",
       "  <th>Kurtosis:</th>      <td> 2.578</td> <th>  Cond. No.          </th> <td>    2.02</td>\n",
       "</tr>\n",
       "</table>"
      ],
      "text/plain": [
       "<class 'statsmodels.iolib.summary.Summary'>\n",
       "\"\"\"\n",
       "                            OLS Regression Results                            \n",
       "==============================================================================\n",
       "Dep. Variable:                      y   R-squared:                       0.458\n",
       "Model:                            OLS   Adj. R-squared:                  0.441\n",
       "Method:                 Least Squares   F-statistic:                     28.26\n",
       "Date:                Sat, 13 May 2017   Prob (F-statistic):           5.03e-17\n",
       "Time:                        22:02:47   Log-Likelihood:                -624.59\n",
       "No. Observations:                 139   AIC:                             1259.\n",
       "Df Residuals:                     134   BIC:                             1274.\n",
       "Df Model:                           4                                         \n",
       "Covariance Type:            nonrobust                                         \n",
       "==============================================================================\n",
       "                 coef    std err          t      P>|t|      [95.0% Conf. Int.]\n",
       "------------------------------------------------------------------------------\n",
       "const        127.2424      1.879     67.707      0.000       123.526   130.959\n",
       "x1            10.9908      1.980      5.550      0.000         7.074    14.907\n",
       "x2            12.2585      2.258      5.429      0.000         7.792    16.725\n",
       "x3             1.7348      2.361      0.735      0.464        -2.936     6.405\n",
       "x4             1.7962      2.038      0.881      0.380        -2.235     5.827\n",
       "==============================================================================\n",
       "Omnibus:                        3.977   Durbin-Watson:                   1.635\n",
       "Prob(Omnibus):                  0.137   Jarque-Bera (JB):                3.781\n",
       "Skew:                           0.344   Prob(JB):                        0.151\n",
       "Kurtosis:                       2.578   Cond. No.                         2.02\n",
       "==============================================================================\n",
       "\n",
       "Warnings:\n",
       "[1] Standard Errors assume that the covariance matrix of the errors is correctly specified.\n",
       "\"\"\""
      ]
     },
     "execution_count": 30,
     "metadata": {},
     "output_type": "execute_result"
    }
   ],
   "source": [
    "results.summary()"
   ]
  },
  {
   "cell_type": "markdown",
   "metadata": {},
   "source": [
    "### 4.2 Оценка качества"
   ]
  },
  {
   "cell_type": "code",
   "execution_count": 21,
   "metadata": {},
   "outputs": [
    {
     "ename": "ValueError",
     "evalue": "shapes (139,5) and (69,5) not aligned: 5 (dim 1) != 69 (dim 0)",
     "output_type": "error",
     "traceback": [
      "\u001b[0;31m---------------------------------------------------------------------------\u001b[0m",
      "\u001b[0;31mValueError\u001b[0m                                Traceback (most recent call last)",
      "\u001b[0;32m<ipython-input-21-3f71b76f09f8>\u001b[0m in \u001b[0;36m<module>\u001b[0;34m()\u001b[0m\n\u001b[0;32m----> 1\u001b[0;31m \u001b[0my_pred\u001b[0m \u001b[0;34m=\u001b[0m \u001b[0mmodel\u001b[0m\u001b[0;34m.\u001b[0m\u001b[0mpredict\u001b[0m\u001b[0;34m(\u001b[0m\u001b[0mX_test\u001b[0m\u001b[0;34m)\u001b[0m\u001b[0;34m\u001b[0m\u001b[0m\n\u001b[0m\u001b[1;32m      2\u001b[0m \u001b[0mr2_score\u001b[0m\u001b[0;34m(\u001b[0m\u001b[0my_test\u001b[0m\u001b[0;34m,\u001b[0m \u001b[0my_pred\u001b[0m\u001b[0;34m)\u001b[0m\u001b[0;34m\u001b[0m\u001b[0m\n",
      "\u001b[0;32m/Users/bulgakov/anaconda/lib/python3.6/site-packages/statsmodels/regression/linear_model.py\u001b[0m in \u001b[0;36mpredict\u001b[0;34m(self, params, exog)\u001b[0m\n\u001b[1;32m    357\u001b[0m         \u001b[0;32mif\u001b[0m \u001b[0mexog\u001b[0m \u001b[0;32mis\u001b[0m \u001b[0;32mNone\u001b[0m\u001b[0;34m:\u001b[0m\u001b[0;34m\u001b[0m\u001b[0m\n\u001b[1;32m    358\u001b[0m             \u001b[0mexog\u001b[0m \u001b[0;34m=\u001b[0m \u001b[0mself\u001b[0m\u001b[0;34m.\u001b[0m\u001b[0mexog\u001b[0m\u001b[0;34m\u001b[0m\u001b[0m\n\u001b[0;32m--> 359\u001b[0;31m         \u001b[0;32mreturn\u001b[0m \u001b[0mnp\u001b[0m\u001b[0;34m.\u001b[0m\u001b[0mdot\u001b[0m\u001b[0;34m(\u001b[0m\u001b[0mexog\u001b[0m\u001b[0;34m,\u001b[0m \u001b[0mparams\u001b[0m\u001b[0;34m)\u001b[0m\u001b[0;34m\u001b[0m\u001b[0m\n\u001b[0m\u001b[1;32m    360\u001b[0m \u001b[0;34m\u001b[0m\u001b[0m\n\u001b[1;32m    361\u001b[0m \u001b[0;32mclass\u001b[0m \u001b[0mGLS\u001b[0m\u001b[0;34m(\u001b[0m\u001b[0mRegressionModel\u001b[0m\u001b[0;34m)\u001b[0m\u001b[0;34m:\u001b[0m\u001b[0;34m\u001b[0m\u001b[0m\n",
      "\u001b[0;31mValueError\u001b[0m: shapes (139,5) and (69,5) not aligned: 5 (dim 1) != 69 (dim 0)"
     ]
    }
   ],
   "source": [
    "y_pred = model.predict(X_test)\n",
    "r2_score(y_test, y_pred)  "
   ]
  },
  {
   "cell_type": "code",
   "execution_count": null,
   "metadata": {},
   "outputs": [],
   "source": [
    "y_test.shape"
   ]
  },
  {
   "cell_type": "code",
   "execution_count": null,
   "metadata": {},
   "outputs": [],
   "source": [
    "t = np.linspace(0, 10, 100)\n",
    "np.column_stack((t, t**2))[9]"
   ]
  },
  {
   "cell_type": "code",
   "execution_count": null,
   "metadata": {
    "collapsed": true
   },
   "outputs": [],
   "source": []
  }
 ],
 "metadata": {
  "kernelspec": {
   "display_name": "Python 3",
   "language": "python",
   "name": "python3"
  },
  "language_info": {
   "codemirror_mode": {
    "name": "ipython",
    "version": 3
   },
   "file_extension": ".py",
   "mimetype": "text/x-python",
   "name": "python",
   "nbconvert_exporter": "python",
   "pygments_lexer": "ipython3",
   "version": "3.6.0"
  }
 },
 "nbformat": 4,
 "nbformat_minor": 2
}
