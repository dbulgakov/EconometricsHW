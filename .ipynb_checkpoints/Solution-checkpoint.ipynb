{
 "cells": [
  {
   "cell_type": "code",
   "execution_count": 1,
   "metadata": {
    "collapsed": true
   },
   "outputs": [],
   "source": [
    "import pandas as pd\n",
    "import numpy as np"
   ]
  },
  {
   "cell_type": "markdown",
   "metadata": {},
   "source": [
    "## 1. Загрузка данных"
   ]
  },
  {
   "cell_type": "code",
   "execution_count": 2,
   "metadata": {
    "collapsed": true
   },
   "outputs": [],
   "source": [
    "data = pd.read_csv('data/hotel_data.csv', sep=';')"
   ]
  },
  {
   "cell_type": "code",
   "execution_count": 3,
   "metadata": {},
   "outputs": [
    {
     "data": {
      "text/html": [
       "<div>\n",
       "<table border=\"1\" class=\"dataframe\">\n",
       "  <thead>\n",
       "    <tr style=\"text-align: right;\">\n",
       "      <th></th>\n",
       "      <th>Hotel name</th>\n",
       "      <th>Rating</th>\n",
       "      <th>Stars</th>\n",
       "      <th>Distance to the sea</th>\n",
       "      <th>Distance to the downtown</th>\n",
       "      <th>Room area</th>\n",
       "      <th>Swimming pool</th>\n",
       "      <th>Price</th>\n",
       "    </tr>\n",
       "  </thead>\n",
       "  <tbody>\n",
       "    <tr>\n",
       "      <th>0</th>\n",
       "      <td>Bonanova Park</td>\n",
       "      <td>7.7</td>\n",
       "      <td>2.0</td>\n",
       "      <td>7.0</td>\n",
       "      <td>5.0</td>\n",
       "      <td>16.0</td>\n",
       "      <td>0</td>\n",
       "      <td>63</td>\n",
       "    </tr>\n",
       "    <tr>\n",
       "      <th>1</th>\n",
       "      <td>Travelodge Barcelona Poblenou</td>\n",
       "      <td>7.9</td>\n",
       "      <td>1.0</td>\n",
       "      <td>0.5</td>\n",
       "      <td>2.0</td>\n",
       "      <td>15.0</td>\n",
       "      <td>0</td>\n",
       "      <td>83</td>\n",
       "    </tr>\n",
       "    <tr>\n",
       "      <th>2</th>\n",
       "      <td>Senator Barcelona Spa Hotel</td>\n",
       "      <td>7.8</td>\n",
       "      <td>4.0</td>\n",
       "      <td>5.0</td>\n",
       "      <td>3.0</td>\n",
       "      <td>21.0</td>\n",
       "      <td>1</td>\n",
       "      <td>91</td>\n",
       "    </tr>\n",
       "    <tr>\n",
       "      <th>3</th>\n",
       "      <td>Hotel Medicis</td>\n",
       "      <td>7.9</td>\n",
       "      <td>2.0</td>\n",
       "      <td>2.0</td>\n",
       "      <td>1.0</td>\n",
       "      <td>10.0</td>\n",
       "      <td>0</td>\n",
       "      <td>87</td>\n",
       "    </tr>\n",
       "    <tr>\n",
       "      <th>4</th>\n",
       "      <td>Paral-lel</td>\n",
       "      <td>8.4</td>\n",
       "      <td>2.0</td>\n",
       "      <td>0.5</td>\n",
       "      <td>1.0</td>\n",
       "      <td>19.0</td>\n",
       "      <td>0</td>\n",
       "      <td>102</td>\n",
       "    </tr>\n",
       "  </tbody>\n",
       "</table>\n",
       "</div>"
      ],
      "text/plain": [
       "                      Hotel name  Rating  Stars  Distance to the sea  \\\n",
       "0                  Bonanova Park     7.7    2.0                  7.0   \n",
       "1  Travelodge Barcelona Poblenou     7.9    1.0                  0.5   \n",
       "2   Senator Barcelona Spa Hotel      7.8    4.0                  5.0   \n",
       "3                  Hotel Medicis     7.9    2.0                  2.0   \n",
       "4                     Paral-lel      8.4    2.0                  0.5   \n",
       "\n",
       "   Distance to the downtown  Room area  Swimming pool  Price  \n",
       "0                       5.0       16.0              0     63  \n",
       "1                       2.0       15.0              0     83  \n",
       "2                       3.0       21.0              1     91  \n",
       "3                       1.0       10.0              0     87  \n",
       "4                       1.0       19.0              0    102  "
      ]
     },
     "execution_count": 3,
     "metadata": {},
     "output_type": "execute_result"
    }
   ],
   "source": [
    "data.head()"
   ]
  },
  {
   "cell_type": "markdown",
   "metadata": {},
   "source": [
    "## 2. Построение корреляционной матрицы"
   ]
  },
  {
   "cell_type": "code",
   "execution_count": 4,
   "metadata": {},
   "outputs": [
    {
     "data": {
      "text/html": [
       "<div>\n",
       "<table border=\"1\" class=\"dataframe\">\n",
       "  <thead>\n",
       "    <tr style=\"text-align: right;\">\n",
       "      <th></th>\n",
       "      <th>Rating</th>\n",
       "      <th>Stars</th>\n",
       "      <th>Distance to the sea</th>\n",
       "      <th>Distance to the downtown</th>\n",
       "      <th>Room area</th>\n",
       "      <th>Swimming pool</th>\n",
       "      <th>Price</th>\n",
       "    </tr>\n",
       "  </thead>\n",
       "  <tbody>\n",
       "    <tr>\n",
       "      <th>Rating</th>\n",
       "      <td>1.000000</td>\n",
       "      <td>0.186146</td>\n",
       "      <td>-0.021557</td>\n",
       "      <td>-0.128974</td>\n",
       "      <td>0.194202</td>\n",
       "      <td>0.202255</td>\n",
       "      <td>0.405103</td>\n",
       "    </tr>\n",
       "    <tr>\n",
       "      <th>Stars</th>\n",
       "      <td>0.186146</td>\n",
       "      <td>1.000000</td>\n",
       "      <td>0.161972</td>\n",
       "      <td>0.177887</td>\n",
       "      <td>0.478342</td>\n",
       "      <td>0.297641</td>\n",
       "      <td>0.593391</td>\n",
       "    </tr>\n",
       "    <tr>\n",
       "      <th>Distance to the sea</th>\n",
       "      <td>-0.021557</td>\n",
       "      <td>0.161972</td>\n",
       "      <td>1.000000</td>\n",
       "      <td>0.333458</td>\n",
       "      <td>0.072766</td>\n",
       "      <td>0.054242</td>\n",
       "      <td>0.004539</td>\n",
       "    </tr>\n",
       "    <tr>\n",
       "      <th>Distance to the downtown</th>\n",
       "      <td>-0.128974</td>\n",
       "      <td>0.177887</td>\n",
       "      <td>0.333458</td>\n",
       "      <td>1.000000</td>\n",
       "      <td>0.146861</td>\n",
       "      <td>0.158823</td>\n",
       "      <td>-0.109614</td>\n",
       "    </tr>\n",
       "    <tr>\n",
       "      <th>Room area</th>\n",
       "      <td>0.194202</td>\n",
       "      <td>0.478342</td>\n",
       "      <td>0.072766</td>\n",
       "      <td>0.146861</td>\n",
       "      <td>1.000000</td>\n",
       "      <td>0.265249</td>\n",
       "      <td>0.364820</td>\n",
       "    </tr>\n",
       "    <tr>\n",
       "      <th>Swimming pool</th>\n",
       "      <td>0.202255</td>\n",
       "      <td>0.297641</td>\n",
       "      <td>0.054242</td>\n",
       "      <td>0.158823</td>\n",
       "      <td>0.265249</td>\n",
       "      <td>1.000000</td>\n",
       "      <td>0.253810</td>\n",
       "    </tr>\n",
       "    <tr>\n",
       "      <th>Price</th>\n",
       "      <td>0.405103</td>\n",
       "      <td>0.593391</td>\n",
       "      <td>0.004539</td>\n",
       "      <td>-0.109614</td>\n",
       "      <td>0.364820</td>\n",
       "      <td>0.253810</td>\n",
       "      <td>1.000000</td>\n",
       "    </tr>\n",
       "  </tbody>\n",
       "</table>\n",
       "</div>"
      ],
      "text/plain": [
       "                            Rating     Stars  Distance to the sea  \\\n",
       "Rating                    1.000000  0.186146            -0.021557   \n",
       "Stars                     0.186146  1.000000             0.161972   \n",
       "Distance to the sea      -0.021557  0.161972             1.000000   \n",
       "Distance to the downtown -0.128974  0.177887             0.333458   \n",
       "Room area                 0.194202  0.478342             0.072766   \n",
       "Swimming pool             0.202255  0.297641             0.054242   \n",
       "Price                     0.405103  0.593391             0.004539   \n",
       "\n",
       "                          Distance to the downtown  Room area  Swimming pool  \\\n",
       "Rating                                   -0.128974   0.194202       0.202255   \n",
       "Stars                                     0.177887   0.478342       0.297641   \n",
       "Distance to the sea                       0.333458   0.072766       0.054242   \n",
       "Distance to the downtown                  1.000000   0.146861       0.158823   \n",
       "Room area                                 0.146861   1.000000       0.265249   \n",
       "Swimming pool                             0.158823   0.265249       1.000000   \n",
       "Price                                    -0.109614   0.364820       0.253810   \n",
       "\n",
       "                             Price  \n",
       "Rating                    0.405103  \n",
       "Stars                     0.593391  \n",
       "Distance to the sea       0.004539  \n",
       "Distance to the downtown -0.109614  \n",
       "Room area                 0.364820  \n",
       "Swimming pool             0.253810  \n",
       "Price                     1.000000  "
      ]
     },
     "execution_count": 4,
     "metadata": {},
     "output_type": "execute_result"
    }
   ],
   "source": [
    "data.corr()"
   ]
  },
  {
   "cell_type": "code",
   "execution_count": null,
   "metadata": {
    "collapsed": true
   },
   "outputs": [],
   "source": []
  }
 ],
 "metadata": {
  "kernelspec": {
   "display_name": "Python [default]",
   "language": "python",
   "name": "python3"
  },
  "language_info": {
   "codemirror_mode": {
    "name": "ipython",
    "version": 3
   },
   "file_extension": ".py",
   "mimetype": "text/x-python",
   "name": "python",
   "nbconvert_exporter": "python",
   "pygments_lexer": "ipython3",
   "version": "3.5.2"
  }
 },
 "nbformat": 4,
 "nbformat_minor": 2
}
